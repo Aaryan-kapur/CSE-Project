{
 "cells": [
  {
   "cell_type": "code",
   "execution_count": 1,
   "metadata": {},
   "outputs": [
    {
     "name": "stdout",
     "output_type": "stream",
     "text": [
      "[1] 1\n",
      "[1] 1\n",
      "[1] 5\n",
      "[1] 5\n",
      "[1] 5\n",
      "[1] 1\n",
      "[1] 5\n",
      "[1] 1\n",
      "[1] 1\n",
      "[1] 5\n"
     ]
    }
   ],
   "source": [
    "# Question 1\n",
    "\n",
    "x <- sample(1:6,10,replace=T)\n",
    "for (i in x){\n",
    "    print(x[i])\n",
    "} "
   ]
  },
  {
   "cell_type": "code",
   "execution_count": 2,
   "metadata": {
    "scrolled": true
   },
   "outputs": [
    {
     "name": "stdout",
     "output_type": "stream",
     "text": [
      " [1] 4 4 2 3 5 2 2 2 3 6\n",
      "     [,1] [,2] [,3] [,4] [,5] [,6]\n",
      "[1,]    0    0    0    0    0    0\n",
      "[2,]    0    2    2    0    0    0\n",
      "[3,]    0    0    0    0    1    1\n",
      "[4,]    0    1    0    1    0    0\n",
      "[5,]    0    1    0    0    0    0\n",
      "[6,]    0    0    0    0    0    0\n"
     ]
    }
   ],
   "source": [
    "# Question 2\n",
    "\n",
    "sample_data <- sample(1:6,10,replace=T)\n",
    "print(sample_data)\n",
    "\n",
    "sample_space <- matrix(0, nrow=6, ncol=6)\n",
    "\n",
    "for (ind in 2:length(sample_data)-1) {\n",
    "    curEle <- sample_data[ind]\n",
    "    nexEle <- sample_data[ind+1]\n",
    "    sample_space[[curEle,nexEle]] = sample_space[[curEle,nexEle]] + 1\n",
    "}\n",
    "print(sample_space)"
   ]
  },
  {
   "cell_type": "code",
   "execution_count": 3,
   "metadata": {},
   "outputs": [
    {
     "name": "stdout",
     "output_type": "stream",
     "text": [
      "[1] \"### Sample Space ###\"\n",
      "     [,1] [,2] [,3] [,4] [,5] [,6]\n",
      "[1,]  126  150  135  120  128  129\n",
      "[2,]  125  139  167  142  141  153\n",
      "[3,]  145  154  142  162  131  124\n",
      "[4,]  141  152  145  122  137  145\n",
      "[5,]  125  147  115  149  137  140\n",
      "[6,]  126  125  154  147  139  140\n",
      "[1] \"### Sample Space Probablity ###\"\n",
      "          [,1]      [,2]      [,3]      [,4]      [,5]      [,6]\n",
      "[1,] 0.1598985 0.1903553 0.1713198 0.1522843 0.1624365 0.1637056\n",
      "[2,] 0.1441753 0.1603230 0.1926182 0.1637832 0.1626298 0.1764706\n",
      "[3,] 0.1689977 0.1794872 0.1655012 0.1888112 0.1526807 0.1445221\n",
      "[4,] 0.1674584 0.1805226 0.1722090 0.1448931 0.1627078 0.1722090\n",
      "[5,] 0.1537515 0.1808118 0.1414514 0.1832718 0.1685117 0.1722017\n",
      "[6,] 0.1516245 0.1504212 0.1853189 0.1768953 0.1672684 0.1684717\n"
     ]
    }
   ],
   "source": [
    "# Question 3\n",
    "\n",
    "sample_data <- sample(1:6,5000,replace=T)\n",
    "sample_space <- matrix(0, nrow=6, ncol=6)\n",
    "\n",
    "for (ind in 2:length(sample_data)-1) {\n",
    "    curEle <- sample_data[ind]\n",
    "    nexEle <- sample_data[ind+1]\n",
    "    sample_space[[curEle,nexEle]] = sample_space[[curEle,nexEle]] + 1\n",
    "}\n",
    "\n",
    "sample_space_prob <- matrix(0, nrow=6, ncol=6)\n",
    "for (sample_index in 1:6) {\n",
    "    element_count <- 0\n",
    "    for (eleIndex in 1:6) {\n",
    "        element_count = element_count + sample_space[[sample_index, eleIndex]]\n",
    "    }\n",
    "    for (sample_number in 1:6) {\n",
    "        sample_space_prob[[sample_index, sample_number]] = sample_space[[sample_index, sample_number]] / element_count\n",
    "\n",
    "    }       \n",
    "}\n",
    "\n",
    "# print(\"### Sample Data ###\")\n",
    "# print(sample_data)\n",
    "print(\"### Sample Space ###\")\n",
    "print(sample_space)\n",
    "print(\"### Sample Space Probablity ###\")\n",
    "print(sample_space_prob)"
   ]
  },
  {
   "cell_type": "code",
   "execution_count": null,
   "metadata": {},
   "outputs": [],
   "source": []
  }
 ],
 "metadata": {
  "kernelspec": {
   "display_name": "R",
   "language": "R",
   "name": "ir"
  },
  "language_info": {
   "codemirror_mode": "r",
   "file_extension": ".r",
   "mimetype": "text/x-r-source",
   "name": "R",
   "pygments_lexer": "r",
   "version": "3.6.1"
  }
 },
 "nbformat": 4,
 "nbformat_minor": 2
}
